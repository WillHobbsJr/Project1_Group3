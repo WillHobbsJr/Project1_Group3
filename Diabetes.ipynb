{
 "cells": [
  {
   "cell_type": "code",
   "execution_count": 7,
   "id": "fffe7783-4b69-4bdd-9769-dd21452f9cb8",
   "metadata": {},
   "outputs": [],
   "source": [
    "import os \n",
    "import pandas as pd\n",
    "from matplotlib import pyplot as plt\n",
    "import numpy as np\n",
    "import csv\n",
    "msu_data = os.path.join(\"MSU-DATA.csv\")\n",
    "Total_Male = 0\n",
    "Total_Female = 0\n",
    "Total_Patients = 0\n",
    "Percent_Female = 0\n",
    "Percent_Male = 0\n",
    "Total_Count = 0\n",
    "yr1_B12_Male = 0\n",
    "yr1_B12_Female = 0\n",
    "yr3_B12_Male = 0\n",
    "yr3_B12_Female = 0\n",
    "yr5_B12_Male = 0\n",
    "yr5_B12_Female = 0\n",
    "Candidates_Male= []\n",
    "Candidates_Female = {}\n",
    "Candidates_Percentages = {}\n",
    "Candidate = []\n"
   ]
  },
  {
   "cell_type": "code",
   "execution_count": 12,
   "id": "c57b8532-f610-4cbc-bbd8-37214c2a9c70",
   "metadata": {},
   "outputs": [
    {
     "name": "stdout",
     "output_type": "stream",
     "text": [
      "      ID Gender  Age  daily metformin dose (mg) B12 (1yr) B12 (3yr) B12 (5yr)\n",
      "0      1      m   56                       1500    absent    absent    absent\n",
      "1      2      m   54                       1500    absent    absent    absent\n",
      "2      3      m   54                       1500    absent    absent    absent\n",
      "3      4      m   54                       1550       low    absent    absent\n",
      "4      5      m   54                       1500       low    absent    absent\n",
      "..   ...    ...  ...                        ...       ...       ...       ...\n",
      "158  159      f   74                       1500    absent    absent    absent\n",
      "159  160      f   74                       1500    absent    absent    absent\n",
      "160  161      f   74                       1500    absent    absent    absent\n",
      "161  162      f   74                       1500    absent    absent    absent\n",
      "162  163      f   75                       1500    absent    absent    absent\n",
      "\n",
      "[163 rows x 7 columns]\n"
     ]
    }
   ],
   "source": [
    "\n",
    "with open(msu_data, \"r\") as read_file:\n",
    "    read_csv = pd.read_csv(read_file)\n",
    "#    csv_header = next(read_csv)\n",
    "df = pd.DataFrame(read_csv)\n",
    "Total_Male = 0\n",
    "Total_Female = 0\n",
    "Total_Count = 0\n",
    "print (df)\n",
    "#for i in range(len(df)):\n",
    "for index, row in df.iterrows():\n",
    "    Total_Count +=1\n",
    "    if (df.iloc[index]['Gender']) =='f':\n",
    "        Total_Female +=1 \n",
    "    if (df.iloc[index]['Gender']) =='m':\n",
    "        Total_Male +=1 \n",
    "    if (df.iloc[index]['Gender']) =='m':\n",
    "        Total_Male +=1\n",
    "Percent_Female = float(Total_Female) / float(Total_Count) * 100\n",
    "Percent_Male = float(Total_Male) / float(Total_Count) * 100\n"
   ]
  },
  {
   "cell_type": "code",
   "execution_count": 21,
   "id": "13f1aa0f-892b-4d6a-a70b-a91013356d93",
   "metadata": {},
   "outputs": [
    {
     "data": {
      "image/png": "[encoded data removed]",
      "text/plain": [
       "<Figure size 640x480 with 1 Axes>"
      ]
     },
     "metadata": {},
     "output_type": "display_data"
    }
   ],
   "source": [
    "## Matlabplot Graph\n",
    "ax = df.plot.bar(x='Gender',y='Age',rot=40)\n",
    "#plt.ylable ('Patients')\n",
    "#plot.xlable ('Gender')\n"
   ]
  },
  {
   "cell_type": "code",
   "execution_count": null,
   "id": "2393517e-2087-4881-af28-d5732fd9a22f",
   "metadata": {},
   "outputs": [],
   "source": []
  }
 ],
 "metadata": {
  "kernelspec": {
   "display_name": "Python 3 (ipykernel)",
   "language": "python",
   "name": "python3"
  },
  "language_info": {
   "codemirror_mode": {
    "name": "ipython",
    "version": 3
   },
   "file_extension": ".py",
   "mimetype": "text/x-python",
   "name": "python",
   "nbconvert_exporter": "python",
   "pygments_lexer": "ipython3",
   "version": "3.10.11"
  }
 },
 "nbformat": 4,
 "nbformat_minor": 5
}
